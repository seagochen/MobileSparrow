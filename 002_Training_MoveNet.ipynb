{
 "cells": [
  {
   "cell_type": "markdown",
   "id": "c77219de",
   "metadata": {},
   "source": [
    "# MoveNet_FPN 训练笔记"
   ]
  },
  {
   "cell_type": "markdown",
   "id": "36c3c530",
   "metadata": {},
   "source": [
    "## 导入工程"
   ]
  },
  {
   "cell_type": "code",
   "execution_count": 1,
   "id": "41ccc7ff",
   "metadata": {},
   "outputs": [
    {
     "name": "stderr",
     "output_type": "stream",
     "text": [
      "/home/cxt/miniconda3/envs/sparrow/lib/python3.10/site-packages/tqdm/auto.py:21: TqdmWarning: IProgress not found. Please update jupyter and ipywidgets. See https://ipywidgets.readthedocs.io/en/stable/user_install.html\n",
      "  from .autonotebook import tqdm as notebook_tqdm\n"
     ]
    }
   ],
   "source": [
    "# 导入系统库\n",
    "import os\n",
    "import timm\n",
    "from tqdm import tqdm\n",
    "\n",
    "# 导入sparrow\n",
    "from sparrow.models.movenet_fpn import MoveNet_FPN, decode_movenet_outputs\n",
    "from sparrow.datasets.coco_kpts import create_kpts_dataloader\n",
    "from sparrow.losses.movenet_loss import MoveNetLoss, evaluate\n",
    "from sparrow.utils.ema import EMA\n",
    "from sparrow.utils.visual_movenet import visualize_movenet\n",
    "\n",
    "# 导入torch库\n",
    "import torch\n",
    "from torch.optim.lr_scheduler import CosineAnnealingLR"
   ]
  },
  {
   "cell_type": "markdown",
   "id": "3e0c5166",
   "metadata": {},
   "source": [
    "## 参数设置\n",
    "\n",
    "### 系统参数"
   ]
  },
  {
   "cell_type": "code",
   "execution_count": 2,
   "id": "bf2164b6",
   "metadata": {},
   "outputs": [],
   "source": [
    "device = 'cuda' if torch.cuda.is_available() else 'cpu'\n",
    "INPUT_SIZE = 192\n",
    "BATCH_SIZE = 8\n",
    "NUM_WORKERS = 4\n",
    "NUM_JOINTS = 17\n",
    "UPSAMPLE = True\n",
    "TARGET_STRIDE=4\n",
    "\n",
    "COCO_ROOT = \"./data/coco2017_movenet\"       # COCO训练数据集\n",
    "WEIGHTS_DIR = \"./outputs/movenet\"           # 保存权重的目录\n",
    "TEST_IMAGE_PATH = \"./res/girl_with_bags.png\"    # 测试图片路径"
   ]
  },
  {
   "cell_type": "markdown",
   "id": "f2c152cc",
   "metadata": {},
   "source": [
    "### 学习参数"
   ]
  },
  {
   "cell_type": "code",
   "execution_count": 3,
   "id": "426df7d1",
   "metadata": {},
   "outputs": [],
   "source": [
    "START_EPOCH = 0\n",
    "EPOCHS=100                      # 训练次数\n",
    "BEST_VAL_LOSS = float('inf')\n",
    "# LEARNING_RATE = 1e-4            # 初始学习率\n",
    "# WEIGHT_DECAY = 1e-3\n",
    "WARMUP_EPOCHS = 2               # 预热\n",
    "GRADIENT_CLIP_VAL = 5.0         # 梯度裁剪的阈值\n",
    "\n",
    "LEARNING_RATE = 3e-4         # from 1e-4 -> 3e-4\n",
    "WEIGHT_DECAY  = 1e-4         # from 1e-3 -> 1e-4 (或 0)"
   ]
  },
  {
   "cell_type": "markdown",
   "id": "5ea85236",
   "metadata": {},
   "source": [
    "## 创建模型"
   ]
  },
  {
   "cell_type": "code",
   "execution_count": 4,
   "id": "2f565b07",
   "metadata": {},
   "outputs": [
    {
     "name": "stderr",
     "output_type": "stream",
     "text": [
      "Unexpected keys (classifier.bias, classifier.weight, conv_head.bias, conv_head.weight) found while loading pretrained weights. This may be expected if model is being adapted.\n"
     ]
    }
   ],
   "source": [
    "backbone_fpn = timm.create_model('mobilenetv3_large_100', pretrained=True, features_only=True, out_indices=(2, 3, 4))\n",
    "model_fpn = MoveNet_FPN(backbone_fpn, num_joints=NUM_JOINTS, fpn_out_channels=128, upsample_to_quarter=UPSAMPLE, out_stride=TARGET_STRIDE)\n",
    "model_fpn.to(device)\n",
    "\n",
    "# EMA评估器\n",
    "ema = EMA(model_fpn)"
   ]
  },
  {
   "cell_type": "markdown",
   "id": "d5ffb45d",
   "metadata": {},
   "source": [
    "## 加载数据"
   ]
  },
  {
   "cell_type": "code",
   "execution_count": 5,
   "id": "76ebda0c",
   "metadata": {},
   "outputs": [
    {
     "name": "stderr",
     "output_type": "stream",
     "text": [
      "/home/cxt/projects/MobileSparrow/sparrow/datasets/coco_kpts.py:128: UserWarning: Argument(s) 'value' are not valid for transform PadIfNeeded\n",
      "  transforms.append(A.PadIfNeeded(\n",
      "/home/cxt/miniconda3/envs/sparrow/lib/python3.10/site-packages/albumentations/core/validation.py:114: UserWarning: ShiftScaleRotate is a special case of Affine transform. Please use Affine transform instead.\n",
      "  original_init(self, **validated_kwargs)\n",
      "/home/cxt/projects/MobileSparrow/sparrow/datasets/coco_kpts.py:141: UserWarning: Argument(s) 'value' are not valid for transform ShiftScaleRotate\n",
      "  transforms.append(A.ShiftScaleRotate(\n"
     ]
    }
   ],
   "source": [
    "# 创建训练数据加载器 (来自 dataloader.py)\n",
    "train_aug_config = { \"use_flip\": True, \"use_color_aug\": True }\n",
    "train_loader = create_kpts_dataloader(\n",
    "    dataset_root=COCO_ROOT,\n",
    "    img_size=INPUT_SIZE,\n",
    "    batch_size=BATCH_SIZE,\n",
    "    num_workers=NUM_WORKERS,\n",
    "    target_stride=TARGET_STRIDE,\n",
    "    pin_memory=True,\n",
    "    aug_cfg=train_aug_config,\n",
    "    is_train=True\n",
    ")\n",
    "\n",
    "# 创建验证集数据加载器\n",
    "test_aug_config = {\"use_flip\": True}\n",
    "val_loader = create_kpts_dataloader(\n",
    "    dataset_root=COCO_ROOT,\n",
    "    img_size=INPUT_SIZE,\n",
    "    batch_size=BATCH_SIZE * 2,  # 验证时通常可以用更大的 batch size\n",
    "    num_workers=NUM_WORKERS,\n",
    "    target_stride=TARGET_STRIDE,\n",
    "    pin_memory=True,\n",
    "    aug_cfg=test_aug_config,\n",
    "    is_train=False\n",
    ")"
   ]
  },
  {
   "cell_type": "markdown",
   "id": "0fb7fda2",
   "metadata": {},
   "source": [
    "## 损失优化调度"
   ]
  },
  {
   "cell_type": "code",
   "execution_count": 6,
   "id": "ec2f4e9c",
   "metadata": {},
   "outputs": [],
   "source": [
    "# 损失函数\n",
    "# criterion = MoveNetLoss(reg_weight=2.0, off_weight=1.0)\n",
    "criterion = MoveNetLoss(hm_weight=1.0, ct_weight=1.0, reg_weight=1.5, off_weight=1.0)\n",
    "\n",
    "# 优化器\n",
    "# optimizer = torch.optim.AdamW(model_fpn.parameters(), lr=LEARNING_RATE, weight_decay=WEIGHT_DECAY)\n",
    "\n",
    "optimizer = torch.optim.Adam(  # Adam 更宽松；若继续用 AdamW 也行\n",
    "    model_fpn.parameters(), lr=LEARNING_RATE, weight_decay=WEIGHT_DECAY\n",
    ")\n",
    "\n",
    "# 学习调度器\n",
    "scheduler = CosineAnnealingLR(optimizer, T_max=EPOCHS, eta_min=1e-6) "
   ]
  },
  {
   "cell_type": "markdown",
   "id": "1c7b845f",
   "metadata": {},
   "source": [
    "## 加载预训练权重"
   ]
  },
  {
   "cell_type": "code",
   "execution_count": 7,
   "id": "fd5743c8",
   "metadata": {},
   "outputs": [
    {
     "name": "stdout",
     "output_type": "stream",
     "text": [
      "--- Resuming training from last.pt ---\n",
      "Resumed from epoch 9. Best validation loss so far: 4.3184\n",
      "Current learning rate is 0.000294\n"
     ]
    }
   ],
   "source": [
    "# 确保存放预训练的目录存在\n",
    "os.makedirs(WEIGHTS_DIR, exist_ok=True) # 确保目录存在\n",
    "\n",
    "# 断点续训逻辑\n",
    "last_pt_path = os.path.join(WEIGHTS_DIR, \"last.pt\")\n",
    "if os.path.exists(last_pt_path):\n",
    "    print(\"--- Resuming training from last.pt ---\")\n",
    "\n",
    "    # 加载pt文件\n",
    "    checkpoint = torch.load(last_pt_path, map_location=device)\n",
    "    \n",
    "    # 从pt中读取模型权重\n",
    "    model_fpn.load_state_dict(checkpoint['model'])\n",
    "    \n",
    "    # 加载EMA状态\n",
    "    ema.ema_model.load_state_dict(checkpoint['ema_model'])\n",
    "\n",
    "    # 加载优化器状态\n",
    "    optimizer.load_state_dict(checkpoint['optimizer'])\n",
    "\n",
    "    # 加载调度器状态\n",
    "    scheduler.load_state_dict(checkpoint['scheduler'])\n",
    "\n",
    "    # 更新EPOCH状态\n",
    "    START_EPOCH = checkpoint['epoch'] + 1\n",
    "    \n",
    "    # 更新最佳损失状态\n",
    "    BEST_VAL_LOSS = checkpoint['best_val_loss']\n",
    "    \n",
    "    # 打印确认消息\n",
    "    print(f\"Resumed from epoch {START_EPOCH-1}. Best validation loss so far: {BEST_VAL_LOSS:.4f}\")\n",
    "    print(f\"Current learning rate is {optimizer.param_groups[0]['lr']:.6f}\")"
   ]
  },
  {
   "cell_type": "markdown",
   "id": "353631e5",
   "metadata": {},
   "source": [
    "## 训练循环"
   ]
  },
  {
   "cell_type": "code",
   "execution_count": null,
   "id": "a6a64177",
   "metadata": {},
   "outputs": [
    {
     "name": "stdout",
     "output_type": "stream",
     "text": [
      "\n",
      "--- Starting Training ---\n",
      "\n",
      "Epoch 11/100\n"
     ]
    },
    {
     "name": "stderr",
     "output_type": "stream",
     "text": [
      "  🟢 [Training] lr: 0.000294 : 100%|██████████| 16220/16220 [05:49<00:00, 46.37it/s, center=9.64, hm=4.13, offsets=3046.15, regs=44572.35]\n",
      "  🟡 [Validating] : 100%|██████████| 340/340 [00:04<00:00, 81.21it/s, ct=0.204251, hm=0.085777, off=62.467356, pck=9.41%, reg=947.871989, tot=1484.565366] \n"
     ]
    },
    {
     "name": "stdout",
     "output_type": "stream",
     "text": [
      "  📜 Epoch 11/100 average loss: 4.3664\n",
      "  🎯 Saved last checkpoint to ./outputs/movenet/last.pt\n",
      "\n",
      "Epoch 12/100\n"
     ]
    },
    {
     "name": "stderr",
     "output_type": "stream",
     "text": [
      "  🟢 [Training] lr: 0.000293 :  32%|███▏      | 5115/16220 [01:52<04:14, 43.65it/s, center=3.03, hm=1.30, offsets=959.12, regs=13993.10]"
     ]
    }
   ],
   "source": [
    "# --- 训练循环 ---\n",
    "print(\"\\n--- Starting Training ---\")\n",
    "\n",
    "# 计算预热的总步数\n",
    "warmup_steps = WARMUP_EPOCHS * len(train_loader)\n",
    "current_step = START_EPOCH * len(train_loader)\n",
    "\n",
    "for epoch in range(START_EPOCH, EPOCHS):\n",
    "    model_fpn.train() # 设置为训练模式\n",
    "\n",
    "    epoch_loss_heatmap = 0.0\n",
    "    epoch_loss_center = 0.0\n",
    "    epoch_loss_regs = 0.0\n",
    "    epoch_loss_offsets = 0.0\n",
    "\n",
    "    # 循环外（每个 epoch 初始化）\n",
    "    epoch_reg_mae = 0.0; epoch_off_mae = 0.0\n",
    "    epoch_n_reg = 0.0;   epoch_n_off  = 0.0\n",
    "\n",
    "    # 进度条信息\n",
    "    print(f\"\\nEpoch {epoch+1}/{EPOCHS}\")\n",
    "    pbar = tqdm(train_loader, desc=f\"  🟢 [Training] lr: {optimizer.param_groups[0]['lr']:.6f} \")\n",
    "\n",
    "    for i, (imgs, labels, kps_masks, _) in enumerate(pbar):\n",
    "    \n",
    "        # 学习率预热逻辑\n",
    "        if current_step < warmup_steps:\n",
    "            # 线性预热\n",
    "            lr_scale = (current_step + 1) / warmup_steps\n",
    "            for param_group in optimizer.param_groups:\n",
    "                param_group['lr'] = LEARNING_RATE * lr_scale\n",
    "        \n",
    "        # 正常训练步骤\n",
    "        imgs = imgs.to(device)\n",
    "        labels = labels.to(device)\n",
    "        kps_masks = kps_masks.to(device)\n",
    "\n",
    "        # 前向传播\n",
    "        preds = model_fpn(imgs)\n",
    "\n",
    "        # 计算损失\n",
    "        total_loss, loss_dict = criterion(preds, labels, kps_masks) \n",
    "\n",
    "        # 反向传播和优化\n",
    "        optimizer.zero_grad()\n",
    "        total_loss.backward()\n",
    "\n",
    "        # 梯度裁剪\n",
    "        torch.nn.utils.clip_grad_norm_(model_fpn.parameters(), max_norm=GRADIENT_CLIP_VAL)\n",
    "        \n",
    "        # 更新模型参数\n",
    "        optimizer.step()\n",
    "\n",
    "        # 更新EMA\n",
    "        ema.update(model_fpn)\n",
    "        current_step += 1\n",
    "\n",
    "        epoch_loss_heatmap += loss_dict[\"loss_heatmap\"]\n",
    "        epoch_loss_center += loss_dict[\"loss_center\"]\n",
    "        epoch_loss_regs += loss_dict[\"loss_regs\"]\n",
    "        epoch_loss_offsets += loss_dict[\"loss_offsets\"]\n",
    "\n",
    "        # 进度条附加显示\n",
    "        pbar.set_postfix(\n",
    "            hm=f\"{epoch_loss_heatmap:.2f}\",\n",
    "            center=f\"{epoch_loss_center:.2f}\",\n",
    "            offsets=f\"{epoch_loss_offsets:.2f}\",\n",
    "            regs=f\"{epoch_loss_regs:.2f}\",\n",
    "        )\n",
    "    # end-for: 训练结束\n",
    "\n",
    "    # 每个 epoch 结束后，更新学习率调度器\n",
    "    if epoch >= WARMUP_EPOCHS - 1: # -1 是因为 step() 应在 optimizer.step() 之后调用\n",
    "        scheduler.step()\n",
    "\n",
    "    # 每个 epoch 结束后，进行验证\n",
    "    avg_total_loss, _, = evaluate(ema.ema_model, val_loader, criterion, device, decoder=decode_movenet_outputs, stride=TARGET_STRIDE)\n",
    "\n",
    "    # 生成本次epoch报告\n",
    "    print(f\"  📜 Epoch {epoch+1}/{EPOCHS} average loss: {avg_total_loss:.4f}\")\n",
    "\n",
    "    # 保存 last.pt 和 best.pt\n",
    "    checkpoint = {\n",
    "        'epoch': epoch,\n",
    "        'model': model_fpn.state_dict(),\n",
    "        'ema_model': ema.ema_model.state_dict(),\n",
    "        'optimizer': optimizer.state_dict(),\n",
    "        'scheduler': scheduler.state_dict(),\n",
    "        'best_val_loss': BEST_VAL_LOSS,\n",
    "    }\n",
    "\n",
    "    # 保存 last.pt\n",
    "    torch.save(checkpoint, last_pt_path)\n",
    "    print(f\"  🎯 Saved last checkpoint to {last_pt_path}\")\n",
    "    \n",
    "    # 如果当前是最佳模型，则保存 best.pt\n",
    "    if avg_total_loss < BEST_VAL_LOSS:\n",
    "        BEST_VAL_LOSS = avg_total_loss\n",
    "        checkpoint['best_val_loss'] = BEST_VAL_LOSS # 更新 checkpoint 中的最佳损失\n",
    "        best_pt_path = os.path.join(WEIGHTS_DIR, \"best.pt\")\n",
    "        torch.save(checkpoint, best_pt_path)\n",
    "        print(f\"  🎉 New best model found! Saved to {best_pt_path}\")\n",
    "        \n",
    "    # --- 每 5 个 epoch，可视化一次预测结果 ---\n",
    "    if (epoch + 1) % 5 == 0:\n",
    "        print(f\"  📊 Visualized predictions on test image\")\n",
    "        viz_dir = os.path.join(WEIGHTS_DIR, \"viz\")\n",
    "        os.makedirs(viz_dir, exist_ok=True)\n",
    "\n",
    "        # 1) 加载图片\n",
    "        import cv2\n",
    "        img_bgr = cv2.imread(TEST_IMAGE_PATH)\n",
    "        if img_bgr is None:\n",
    "            raise FileNotFoundError(f\"TEST_IMAGE_PATH not found: {TEST_IMAGE_PATH}\")\n",
    "        \n",
    "        # 非等比例直接拉伸\n",
    "        img_resized = cv2.resize(img_bgr, (600, 600), interpolation=cv2.INTER_LINEAR)  \n",
    "\n",
    "        # 2) 可视化保存叠框结果（会回到这张 800x600 的坐标系上绘制）\n",
    "        save_path = os.path.join(viz_dir, f\"epoch_{epoch+1:03d}.png\")\n",
    "        visualize_movenet(\n",
    "            model=model_fpn,\n",
    "            image=img_resized,\n",
    "            device=device,\n",
    "            decoder=decode_movenet_outputs,\n",
    "            input_size=192,\n",
    "            stride=TARGET_STRIDE,\n",
    "            topk_centers=3,          # ← 从 1 提到 3\n",
    "            center_thresh=0.10,      # ← 从 0.25 降到 0.10（甚至 0.05）\n",
    "            keypoint_thresh=0.03,    # ← 适当放宽\n",
    "            draw_bbox=True,\n",
    "            draw_skeleton=True,\n",
    "            draw_on_orig=True,\n",
    "            draw_heatmaps=True,\n",
    "            save_path=save_path,\n",
    "            show=False\n",
    "        )\n",
    "\n",
    "print(\"--- Training Finished ---\")    "
   ]
  }
 ],
 "metadata": {
  "kernelspec": {
   "display_name": "aigc",
   "language": "python",
   "name": "python3"
  },
  "language_info": {
   "codemirror_mode": {
    "name": "ipython",
    "version": 3
   },
   "file_extension": ".py",
   "mimetype": "text/x-python",
   "name": "python",
   "nbconvert_exporter": "python",
   "pygments_lexer": "ipython3",
   "version": "3.13.7"
  }
 },
 "nbformat": 4,
 "nbformat_minor": 5
}
