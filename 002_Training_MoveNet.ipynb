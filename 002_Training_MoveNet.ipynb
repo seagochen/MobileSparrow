{
 "cells": [
  {
   "cell_type": "markdown",
   "id": "c77219de",
   "metadata": {},
   "source": [
    "# MoveNet_FPN 训练笔记"
   ]
  },
  {
   "cell_type": "markdown",
   "id": "36c3c530",
   "metadata": {},
   "source": [
    "## 导入工程"
   ]
  },
  {
   "cell_type": "code",
   "execution_count": null,
   "id": "41ccc7ff",
   "metadata": {},
   "outputs": [],
   "source": [
    "# 导入系统库\n",
    "import os\n",
    "import timm\n",
    "from tqdm import tqdm\n",
    "\n",
    "# 导入sparrow\n",
    "from sparrow.models.movenet_fpn import MoveNet_FPN\n",
    "from sparrow.datasets.coco_kpts import create_kpts_dataloader\n",
    "from sparrow.losses.movenet_loss import MoveNetLoss\n",
    "from sparrow.utils.torch_utils import EMA, evaluate, visualize_predictions\n",
    "from torch.optim.lr_scheduler import CosineAnnealingLR\n",
    "\n",
    "# 导入torch库\n",
    "import torch"
   ]
  },
  {
   "cell_type": "markdown",
   "id": "3e0c5166",
   "metadata": {},
   "source": [
    "## 参数设置\n",
    "\n",
    "### 系统参数"
   ]
  },
  {
   "cell_type": "code",
   "execution_count": null,
   "id": "bf2164b6",
   "metadata": {},
   "outputs": [],
   "source": [
    "device = 'cuda' if torch.cuda.is_available() else 'cpu'\n",
    "INPUT_SIZE = 192\n",
    "BATCH_SIZE = 8\n",
    "NUM_WORKERS = 4\n",
    "ANCHOR_SIZES = [32, 64, 128, 256, 512]\n",
    "ANCHOR_RATIOS = [0.5, 1.0, 2.0, 1/3.0, 3.0]\n",
    "\n",
    "WEIGHTS_DIR = \"./outputs/ssdlite\" # 保存权重的目录\n",
    "TEST_IMAGE_PATH = \"./res/india_road.png\" # 你的测试图片路径"
   ]
  },
  {
   "cell_type": "markdown",
   "id": "5ea85236",
   "metadata": {},
   "source": [
    "## 创建模型"
   ]
  },
  {
   "cell_type": "code",
   "execution_count": null,
   "id": "2f565b07",
   "metadata": {},
   "outputs": [],
   "source": [
    "backbone_fpn = timm.create_model('mobilenetv3_large_100', pretrained=True, features_only=True, out_indices=(2, 3, 4))\n",
    "model_fpn = SSDLite_FPN(backbone_fpn, num_classes=NUM_CLASSES, fpn_out_channels=128, num_anchors=len(ANCHOR_RATIOS))\n",
    "model_fpn.to(device)\n",
    "\n",
    "# EMA评估器\n",
    "ema = EMA(model_fpn)"
   ]
  }
 ],
 "metadata": {
  "language_info": {
   "name": "python"
  }
 },
 "nbformat": 4,
 "nbformat_minor": 5
}
