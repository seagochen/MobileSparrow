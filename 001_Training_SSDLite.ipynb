{
 "cells": [
  {
   "cell_type": "markdown",
   "id": "ac2ddc9e",
   "metadata": {},
   "source": [
    "# SSDLite_FPN 训练笔记"
   ]
  },
  {
   "cell_type": "markdown",
   "id": "899aa05f",
   "metadata": {},
   "source": [
    "## 安装依赖"
   ]
  },
  {
   "cell_type": "code",
   "execution_count": null,
   "id": "f96b1174",
   "metadata": {},
   "outputs": [],
   "source": [
    "!pip -q install torchvision\n",
    "!pip -q install tqdm\n",
    "!pip -q install timm"
   ]
  },
  {
   "cell_type": "markdown",
   "id": "de39a437",
   "metadata": {},
   "source": [
    "## 导入工程"
   ]
  },
  {
   "cell_type": "code",
   "execution_count": null,
   "id": "18bb3c70",
   "metadata": {},
   "outputs": [],
   "source": [
    "# 导入系统库\n",
    "import os\n",
    "import timm\n",
    "from tqdm import tqdm\n",
    "\n",
    "# 导入sparrow\n",
    "from sparrow.models.ssdlite_fpn import SSDLite_FPN\n",
    "from sparrow.datasets.coco_dets import create_dets_dataloader\n",
    "from sparrow.losses.ssdlite_loss import SSDLoss, AnchorGenerator, evaluate\n",
    "from sparrow.utils.torch_utils import EMA\n",
    "from sparrow.utils.visual_ssdlite import visualize_ssdlite\n",
    "\n",
    "# 导入torch库\n",
    "import torch\n",
    "from torch.optim.lr_scheduler import CosineAnnealingLR"
   ]
  },
  {
   "cell_type": "markdown",
   "id": "e69cc0dd",
   "metadata": {},
   "source": [
    "## 参数设置\n",
    "\n",
    "### 系统参数"
   ]
  },
  {
   "cell_type": "code",
   "execution_count": null,
   "id": "adcf6265",
   "metadata": {},
   "outputs": [],
   "source": [
    "device = 'cuda' if torch.cuda.is_available() else 'cpu'\n",
    "INPUT_SIZE = 320\n",
    "BATCH_SIZE = 8\n",
    "NUM_WORKERS = 4\n",
    "NUM_CLASSES = 80 # COCO 数据集定义数\n",
    "ANCHOR_SIZES = [32, 64, 128, 256, 512]\n",
    "ANCHOR_RATIOS = [0.5, 1.0, 2.0, 1/3.0, 3.0]\n",
    "\n",
    "COCO_ROOT = \"./data/coco2017_ssdlite\"       # COCO训练数据集\n",
    "WEIGHTS_DIR = \"./outputs/ssdlite\"           # 保存权重的目录\n",
    "TEST_IMAGE_PATH = \"./res/ssdlite_test.png\"  # 测试图片路径"
   ]
  },
  {
   "cell_type": "markdown",
   "id": "c034db9c",
   "metadata": {},
   "source": [
    "### 学习参数"
   ]
  },
  {
   "cell_type": "code",
   "execution_count": null,
   "id": "60f45e0a",
   "metadata": {},
   "outputs": [],
   "source": [
    "START_EPOCH = 0\n",
    "EPOCHS=100                      # 训练次数\n",
    "BEST_VAL_LOSS = float('inf')\n",
    "LEARNING_RATE = 1e-4            # 初始学习率\n",
    "WEIGHT_DECAY = 1e-3\n",
    "WARMUP_EPOCHS = 2               # 预热\n",
    "GRADIENT_CLIP_VAL = 5.0         # 梯度裁剪的阈值"
   ]
  },
  {
   "cell_type": "markdown",
   "id": "9cae9896",
   "metadata": {},
   "source": [
    "## 创建模型"
   ]
  },
  {
   "cell_type": "code",
   "execution_count": null,
   "id": "8da76bf6",
   "metadata": {},
   "outputs": [],
   "source": [
    "backbone_fpn = timm.create_model('mobilenetv3_large_100', pretrained=True, features_only=True, out_indices=(2, 3, 4))\n",
    "model_fpn = SSDLite_FPN(backbone_fpn, num_classes=NUM_CLASSES, fpn_out_channels=128, num_anchors=len(ANCHOR_RATIOS))\n",
    "model_fpn.to(device)\n",
    "\n",
    "# EMA评估器\n",
    "ema = EMA(model_fpn)"
   ]
  },
  {
   "cell_type": "markdown",
   "id": "5054edf0",
   "metadata": {},
   "source": [
    "## 加载数据"
   ]
  },
  {
   "cell_type": "code",
   "execution_count": null,
   "id": "38f7ee36",
   "metadata": {},
   "outputs": [],
   "source": [
    "# 创建训练数据加载器 (来自 dataloader.py)\n",
    "train_aug_config = { \"rotate_deg\": 15.0, \"min_box_size\": 2.0 }\n",
    "train_loader = create_dets_dataloader(\n",
    "    dataset_root=COCO_ROOT,\n",
    "    img_size=INPUT_SIZE,\n",
    "    batch_size=BATCH_SIZE,\n",
    "    num_workers=NUM_WORKERS,\n",
    "    pin_memory=True,\n",
    "    aug_cfg=train_aug_config,\n",
    "    is_train=True\n",
    ")\n",
    "\n",
    "# 创建验证集数据加载器\n",
    "val_aug_config = { \"min_box_size\": 2.0 } # 验证集通常不做复杂增强\n",
    "val_loader = create_dets_dataloader(\n",
    "    dataset_root=COCO_ROOT,\n",
    "    img_size=INPUT_SIZE,\n",
    "    batch_size=BATCH_SIZE * 2,  # 验证时通常可以用更大的 batch size\n",
    "    num_workers=NUM_WORKERS,\n",
    "    pin_memory=True,\n",
    "    aug_cfg=val_aug_config,\n",
    "    is_train=False\n",
    ")"
   ]
  },
  {
   "cell_type": "markdown",
   "id": "77b6535f",
   "metadata": {},
   "source": [
    "## 损失优化调度"
   ]
  },
  {
   "cell_type": "code",
   "execution_count": null,
   "id": "2fbfa59a",
   "metadata": {},
   "outputs": [],
   "source": [
    "# 损失函数\n",
    "criterion = SSDLoss(num_classes=NUM_CLASSES)\n",
    "\n",
    "# 优化器\n",
    "optimizer = torch.optim.AdamW(model_fpn.parameters(), lr=LEARNING_RATE, weight_decay=WEIGHT_DECAY)\n",
    "\n",
    "# 学习调度器\n",
    "scheduler = CosineAnnealingLR(optimizer, T_max=EPOCHS, eta_min=1e-6) "
   ]
  },
  {
   "cell_type": "markdown",
   "id": "2fc13295",
   "metadata": {},
   "source": [
    "## 加载预训练权重"
   ]
  },
  {
   "cell_type": "code",
   "execution_count": null,
   "id": "c0086d6b",
   "metadata": {},
   "outputs": [],
   "source": [
    "# 确保存放预训练的目录存在\n",
    "os.makedirs(WEIGHTS_DIR, exist_ok=True) # 确保目录存在\n",
    "\n",
    "# 断点续训逻辑\n",
    "last_pt_path = os.path.join(WEIGHTS_DIR, \"last.pt\")\n",
    "if os.path.exists(last_pt_path):\n",
    "    print(\"--- Resuming training from last.pt ---\")\n",
    "\n",
    "    # 加载pt文件\n",
    "    checkpoint = torch.load(last_pt_path, map_location=device)\n",
    "    \n",
    "    # 从pt中读取模型权重\n",
    "    model_fpn.load_state_dict(checkpoint['model'])\n",
    "    \n",
    "    # 加载EMA状态\n",
    "    ema.ema_model.load_state_dict(checkpoint['ema_model'])\n",
    "\n",
    "    # 加载优化器状态\n",
    "    optimizer.load_state_dict(checkpoint['optimizer'])\n",
    "\n",
    "    # 加载调度器状态\n",
    "    scheduler.load_state_dict(checkpoint['scheduler'])\n",
    "\n",
    "    # 更新EPOCH状态\n",
    "    START_EPOCH = checkpoint['epoch'] + 1\n",
    "    \n",
    "    # 更新最佳损失状态\n",
    "    BEST_VAL_LOSS = checkpoint['best_val_loss']\n",
    "    \n",
    "    # 打印确认消息\n",
    "    print(f\"Resumed from epoch {START_EPOCH-1}. Best validation loss so far: {BEST_VAL_LOSS:.4f}\")\n",
    "    print(f\"Current learning rate is {optimizer.param_groups[0]['lr']:.6f}\")"
   ]
  },
  {
   "cell_type": "markdown",
   "id": "36111e8a",
   "metadata": {},
   "source": [
    "## 预处理 anchor boxes"
   ]
  },
  {
   "cell_type": "code",
   "execution_count": null,
   "id": "e92c45f3",
   "metadata": {},
   "outputs": [],
   "source": [
    "# --- 预计算锚框 (核心步骤) ---\n",
    "print(\"Pre-computing anchors for fixed input size...\")\n",
    "anchor_generator = AnchorGenerator(\n",
    "    sizes=ANCHOR_SIZES,\n",
    "    aspect_ratios=ANCHOR_RATIOS\n",
    ")\n",
    "\n",
    "# 创建一个虚拟输入\n",
    "dummy_input = torch.randn(1, 3, INPUT_SIZE, INPUT_SIZE).to(device)\n",
    "\n",
    "# 设置为 eval 模式，并确保没有梯度计算\n",
    "model_fpn.eval()\n",
    "with torch.no_grad():\n",
    "    # 手动执行一次特征提取流程，以获取特征图尺寸\n",
    "    features = model_fpn.backbone(dummy_input)\n",
    "    p3, p4, p5 = model_fpn.fpn(features)\n",
    "    p6 = model_fpn.extra_layers[0](p5)\n",
    "    p7 = model_fpn.extra_layers[1](p6)\n",
    "    feature_maps_for_size_calc = [p3, p4, p5, p6, p7]\n",
    "\n",
    "# 使用获取的特征图列表生成一次性的、完整的锚框网格\n",
    "# 这个 precomputed_anchors 将在整个训练过程中被重复使用\n",
    "precomputed_anchors = anchor_generator.generate_anchors_on_grid(feature_maps_for_size_calc, device)\n",
    "print(f\"Anchors pre-computed. Shape: {precomputed_anchors.shape}\")"
   ]
  },
  {
   "cell_type": "markdown",
   "id": "98f57db9",
   "metadata": {},
   "source": [
    "## 训练循环"
   ]
  },
  {
   "cell_type": "code",
   "execution_count": null,
   "id": "57f16739",
   "metadata": {},
   "outputs": [],
   "source": [
    "# --- 训练循环 ---\n",
    "print(\"\\n--- Starting Training ---\")\n",
    "\n",
    "# 计算预热的总步数\n",
    "warmup_steps = WARMUP_EPOCHS * len(train_loader)\n",
    "current_step = START_EPOCH * len(train_loader)\n",
    "\n",
    "for epoch in range(START_EPOCH, EPOCHS):\n",
    "    model_fpn.train() # 设置为训练模式\n",
    "    \n",
    "    epoch_loss_cls = 0.0\n",
    "    epoch_loss_reg = 0.0\n",
    "\n",
    "    # 进度条信息\n",
    "    print(f\"\\nEpoch {epoch+1}/{EPOCHS}\")\n",
    "    pbar = tqdm(train_loader, desc=f\"  🟢 [Training] lr: {optimizer.param_groups[0]['lr']:.6f} \")\n",
    "    \n",
    "    for i, (imgs, targets, _) in enumerate(pbar):\n",
    "        # --- 学习率预热逻辑 ---\n",
    "        if current_step < warmup_steps:\n",
    "            # 线性预热\n",
    "            lr_scale = (current_step + 1) / warmup_steps\n",
    "            for param_group in optimizer.param_groups:\n",
    "                param_group['lr'] = LEARNING_RATE * lr_scale\n",
    "\n",
    "        # --- 正常训练步骤 ---\n",
    "        imgs = imgs.to(device)\n",
    "        targets_on_device = [t.to(device) for t in targets]\n",
    "        cls_preds, reg_preds = model_fpn(imgs)\n",
    "        loss_cls, loss_reg = criterion(precomputed_anchors, cls_preds, reg_preds, targets_on_device)\n",
    "        total_loss = loss_cls + loss_reg\n",
    "        optimizer.zero_grad()\n",
    "        total_loss.backward()\n",
    "\n",
    "        # --- 新增：梯度裁剪 ---\n",
    "        torch.nn.utils.clip_grad_norm_(model_fpn.parameters(), max_norm=GRADIENT_CLIP_VAL)\n",
    "        \n",
    "        # 更新模型参数\n",
    "        optimizer.step()\n",
    "\n",
    "        # --- 更新 EMA ---\n",
    "        # 更新 EMA 和步数计数器\n",
    "        ema.update(model_fpn)\n",
    "        current_step += 1\n",
    "        \n",
    "        epoch_loss_cls += loss_cls.item()\n",
    "        epoch_loss_reg += loss_reg.item()\n",
    "\n",
    "        # 显示当前训练信息\n",
    "        pbar.set_postfix(cls=f\"{epoch_loss_cls:.6f}\", reg=f\"{epoch_loss_reg:.6f}\")\n",
    "    # end-for: 训练结束\n",
    "\n",
    "    # 每个 epoch 结束后，更新学习率调度器\n",
    "    if epoch >= WARMUP_EPOCHS - 1: # -1 是因为 step() 应在 optimizer.step() 之后调用\n",
    "        scheduler.step()\n",
    "\n",
    "    # 每个 epoch 结束后，进行验证\n",
    "    avg_total_loss, _, _ = evaluate(ema.ema_model, val_loader, criterion, precomputed_anchors, device)\n",
    "\n",
    "    # 生成本次epoch报告\n",
    "    print(f\"  📜 Epoch {epoch+1}/{EPOCHS} average loss: {avg_total_loss:.4f}\")\n",
    "\n",
    "    # 保存 last.pt 和 best.pt\n",
    "    checkpoint = {\n",
    "        'epoch': epoch,\n",
    "        'model': model_fpn.state_dict(),\n",
    "        'ema_model': ema.ema_model.state_dict(),\n",
    "        'optimizer': optimizer.state_dict(),\n",
    "        'scheduler': scheduler.state_dict(),\n",
    "        'best_val_loss': BEST_VAL_LOSS,\n",
    "    }\n",
    "    \n",
    "    # 保存 last.pt\n",
    "    torch.save(checkpoint, last_pt_path)\n",
    "    print(f\"  🎯 Saved last checkpoint to {last_pt_path}\")\n",
    "    \n",
    "    # 如果当前是最佳模型，则保存 best.pt\n",
    "    if avg_total_loss < BEST_VAL_LOSS:\n",
    "        BEST_VAL_LOSS = avg_total_loss\n",
    "        checkpoint['best_val_loss'] = BEST_VAL_LOSS # 更新 checkpoint 中的最佳损失\n",
    "        best_pt_path = os.path.join(WEIGHTS_DIR, \"best.pt\")\n",
    "        torch.save(checkpoint, best_pt_path)\n",
    "        print(f\"  🎉 New best model found! Saved to {best_pt_path}\")\n",
    "        \n",
    "    # --- 每 5 个 epoch，可视化一次预测结果 ---\n",
    "    if (epoch + 1) % 5 == 0:\n",
    "        print(f\"  📊 Visualized predictions on test image\")\n",
    "        viz_dir = os.path.join(WEIGHTS_DIR, \"viz\")\n",
    "        os.makedirs(viz_dir, exist_ok=True)\n",
    "\n",
    "        # 1) 加载图片\n",
    "        import cv2\n",
    "        img_bgr = cv2.imread(TEST_IMAGE_PATH)\n",
    "        if img_bgr is None:\n",
    "            raise FileNotFoundError(f\"TEST_IMAGE_PATH not found: {TEST_IMAGE_PATH}\")\n",
    "        \n",
    "        # 非等比例直接拉伸\n",
    "        img_resized = cv2.resize(img_bgr, (600, 600), interpolation=cv2.INTER_LINEAR)  \n",
    "\n",
    "        # 2) 可视化保存叠框结果\n",
    "        save_path = os.path.join(viz_dir, f\"epoch_{epoch+1:03d}.png\")\n",
    "        visualize_ssdlite(\n",
    "            model=ema.ema_model,\n",
    "            image=img_resized,                  # 用缩放后的图片\n",
    "            device=device,\n",
    "            precomputed_anchors=precomputed_anchors,\n",
    "            conf_thresh=0.5,\n",
    "            nms_thresh=0.45,\n",
    "            save_path=save_path,                # 保存，不 show\n",
    "            draw_on_orig=True,                  # 注意：新参数名\n",
    "            show=False\n",
    "        )\n",
    "            \n",
    "print(\"--- Training Finished ---\")"
   ]
  }
 ],
 "metadata": {
  "kernelspec": {
   "display_name": "sparrow",
   "language": "python",
   "name": "python3"
  },
  "language_info": {
   "codemirror_mode": {
    "name": "ipython",
    "version": 3
   },
   "file_extension": ".py",
   "mimetype": "text/x-python",
   "name": "python",
   "nbconvert_exporter": "python",
   "pygments_lexer": "ipython3",
   "version": "3.10.18"
  }
 },
 "nbformat": 4,
 "nbformat_minor": 5
}
